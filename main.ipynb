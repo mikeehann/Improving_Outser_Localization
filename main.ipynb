{
 "cells": [
  {
   "cell_type": "code",
   "execution_count": 2,
   "id": "413612fa",
   "metadata": {},
   "outputs": [],
   "source": [
    "# Original Author: Michael(Mike) Hann\n",
    "# Purpose: To ingest, interpolate, filter/correct, and display Emlid Reach M2 GNSS and Ouster Lidar OS2 data\n",
    "\n",
    "# To Do List:\n",
    "#     DONE 1. Interpolate the GNSS data to the IMU frequency\n",
    "#     2. Develop the Kalman Filter class kf.py\n",
    "#        a. Find a way to fudge Yaw values\n",
    "#     3. Calculate normalized Pitch, Roll, Yaw values from raw IMU data\n",
    "#     4. Plot the GNSS track before and after filtering\n",
    "\n",
    "\n",
    "# Import Required Packages\n",
    "\n",
    "import os\n",
    "import numpy as np\n",
    "import pandas as pd\n",
    "from time import perf_counter\n",
    "import matplotlib.pyplot as plt\n"
   ]
  },
  {
   "cell_type": "code",
   "execution_count": 73,
   "id": "3da4af87",
   "metadata": {
    "scrolled": false
   },
   "outputs": [
    {
     "name": "stdout",
     "output_type": "stream",
     "text": [
      "\n",
      "\n",
      "directory: C:\\Users\\mikeh\\OneDrive\\Documents\\GitHub\\ouster_localization\n",
      "\n",
      "\n",
      "\treading file...\n",
      "\n",
      "\tinterpolating data...\n",
      "\n",
      "<class 'pandas.core.frame.DataFrame'>\n",
      "Int64Index: 31375 entries, 1 to 31375\n",
      "Data columns (total 14 columns):\n",
      " #   Column          Non-Null Count  Dtype  \n",
      "---  ------          --------------  -----  \n",
      " 0   Time            31375 non-null  int64  \n",
      " 1   GPS_Long        31375 non-null  float64\n",
      " 2   GPS_Lat         31375 non-null  float64\n",
      " 3   GPS_Alt         31375 non-null  float64\n",
      " 4   SDn             31375 non-null  float64\n",
      " 5   SDe             31375 non-null  float64\n",
      " 6   SDu             31375 non-null  float64\n",
      " 7   GPS_Status      31375 non-null  string \n",
      " 8   IMU_AngVelX     31375 non-null  float64\n",
      " 9   IMU_AngVelY     31375 non-null  float64\n",
      " 10  IMU_AngVelZ     31375 non-null  float64\n",
      " 11  IMU_LinearAccX  31375 non-null  float64\n",
      " 12  IMU_LinearAccY  31375 non-null  float64\n",
      " 13  IMU_LinearAccZ  31375 non-null  float64\n",
      "dtypes: float64(12), int64(1), string(1)\n",
      "memory usage: 3.6 MB\n",
      "None\n",
      "\tDONE Phase 1\n",
      "\n",
      "Phase 1 time: 0.40111140000044543\n",
      "\n"
     ]
    }
   ],
   "source": [
    "# INGEST AND REWRITE FILE TO INTERPOLATE GNSS DATA\n",
    "\n",
    "# Set and Get directory\n",
    "os.chdir(r'C:\\Users\\mikeh\\OneDrive\\Documents\\GitHub\\ouster_localization')\n",
    "dir = os.getcwd()\n",
    "print(f'\\n\\ndirectory: {dir}\\n\\n')\n",
    "\n",
    "# Set the input file (full or small)\n",
    "infile = 'C2_IMU.txt'\n",
    "#infile = 'less_data.txt'\n",
    "\n",
    "# Start performance counter\n",
    "t1 = perf_counter()\n",
    "\n",
    "print('\\treading file...\\n')\n",
    "# Import the comma delimited .txt file as a pandas dataframe\n",
    "df = pd.read_csv(f'{dir}\\\\{infile}', delimiter=',')\n",
    "\n",
    "print('\\tinterpolating data...\\n')\n",
    "# Extract only the numbers from the 'Time' column using a reg ex, convert to long integer\n",
    "df['Time'] = df['Time'].str.extract('(\\d+)').astype('int64')\n",
    "\n",
    "# Set any future interpolated GNSS values to status 99\n",
    "# Set an future interpolated standard deviations as -1\n",
    "df['GPS_Status'] = df['GPS_Status'].replace(' None', '99')\n",
    "df.loc[:, 'SDn':'SDu'] = df.loc[:, 'SDn':'SDu'].replace(' None', '-1')\n",
    "\n",
    "# Set all values GNSS and IMU 'None' values to null, convert all object data types to presumed data types\n",
    "df = df.replace(' None', pd.NA).convert_dtypes(infer_objects=True)\n",
    "\n",
    "# Interpolate all values as floats\n",
    "df = df.astype('float').interpolate()\n",
    "\n",
    "# Convert time: int, status: string, \n",
    "df['Time'] = df['Time'].astype('int64')\n",
    "df['GPS_Status'] = df['GPS_Status'].astype('string')\n",
    "\n",
    "# Drop first row of values (uninterpolated IMU values)\n",
    "df = df.drop(index=0)\n",
    "\n",
    "# End performance counter\n",
    "print('\\tDONE Phase 1\\n')\n",
    "t2 = perf_counter()\n",
    "print(f'Phase 1 time: {t2-t1}\\n')"
   ]
  },
  {
   "cell_type": "code",
   "execution_count": null,
   "id": "c4c7dfa6",
   "metadata": {},
   "outputs": [],
   "source": [
    "# Create Original "
   ]
  },
  {
   "cell_type": "code",
   "execution_count": 82,
   "id": "77cf8712",
   "metadata": {},
   "outputs": [],
   "source": [
    "# PLOT RAW IMU VALUES\n",
    "%matplotlib qt\n",
    "\n",
    "# Plot Linear Acceleration          \n",
    "plt.figure()\n",
    "plt.title('IMU Linear Acceleration')\n",
    "plt.plot(df.Time, df.IMU_AngVelX,\n",
    "        color='red')\n",
    "plt.plot(df.Time, df.IMU_AngVelY,\n",
    "        color='green')\n",
    "plt.plot(df['Time'], df.IMU_AngVelZ,\n",
    "        color='blue')\n",
    "plt.xlabel('IMU Time (sec)')\n",
    "plt.ylabel('g (m/s^2)')\n",
    "plt.show()\n",
    "\n",
    "# Plot Angular Velocity\n",
    "plt.figure()\n",
    "plt.title('IMU Angular Velocity')\n",
    "plt.plot(df.Time, df.IMU_LinearAccX,\n",
    "        color='red')\n",
    "plt.plot(df.Time, df.IMU_LinearAccY,\n",
    "        color='green')\n",
    "plt.plot(df.Time, df.IMU_LinearAccZ,\n",
    "        color='blue')\n",
    "plt.xlabel('IMU Time (sec)')\n",
    "plt.ylabel('deg/sec')\n",
    "plt.show()\n",
    "\n",
    "plt.figure()\n",
    "plt.title(\"Tracks\")\n",
    "plt.xlabel(\"longitude\")\n",
    "plt.ylabel(\"latitude\")\n",
    "plt.scatter(df.GPS_Long, df.GPS_Lat, \n",
    "            c=df.SDn,\n",
    "            cmap='gnuplot_r')\n",
    "plt.show()"
   ]
  },
  {
   "cell_type": "code",
   "execution_count": 79,
   "id": "501fa958",
   "metadata": {},
   "outputs": [
    {
     "ename": "TypeError",
     "evalue": "integrate() missing 1 required positional argument: 'df_ang_dir'",
     "output_type": "error",
     "traceback": [
      "\u001b[1;31m---------------------------------------------------------------------------\u001b[0m",
      "\u001b[1;31mTypeError\u001b[0m                                 Traceback (most recent call last)",
      "\u001b[1;32m~\\AppData\\Local\\Temp/ipykernel_6900/3731626540.py\u001b[0m in \u001b[0;36m<module>\u001b[1;34m\u001b[0m\n\u001b[0;32m      7\u001b[0m \u001b[1;33m\u001b[0m\u001b[0m\n\u001b[0;32m      8\u001b[0m \u001b[1;31m# Integrate angular velocity to get angular displacement\u001b[0m\u001b[1;33m\u001b[0m\u001b[1;33m\u001b[0m\u001b[0m\n\u001b[1;32m----> 9\u001b[1;33m \u001b[0mheading_df\u001b[0m \u001b[1;33m=\u001b[0m \u001b[0mdf\u001b[0m\u001b[1;33m.\u001b[0m\u001b[0mapply\u001b[0m\u001b[1;33m(\u001b[0m\u001b[0mintegrate\u001b[0m\u001b[1;33m)\u001b[0m\u001b[1;33m\u001b[0m\u001b[1;33m\u001b[0m\u001b[0m\n\u001b[0m\u001b[0;32m     10\u001b[0m \u001b[1;31m#lambda functions\u001b[0m\u001b[1;33m\u001b[0m\u001b[1;33m\u001b[0m\u001b[0m\n\u001b[0;32m     11\u001b[0m \u001b[1;33m\u001b[0m\u001b[0m\n",
      "\u001b[1;32m~\\anaconda3\\lib\\site-packages\\pandas\\core\\frame.py\u001b[0m in \u001b[0;36mapply\u001b[1;34m(self, func, axis, raw, result_type, args, **kwargs)\u001b[0m\n\u001b[0;32m   8738\u001b[0m             \u001b[0mkwargs\u001b[0m\u001b[1;33m=\u001b[0m\u001b[0mkwargs\u001b[0m\u001b[1;33m,\u001b[0m\u001b[1;33m\u001b[0m\u001b[1;33m\u001b[0m\u001b[0m\n\u001b[0;32m   8739\u001b[0m         )\n\u001b[1;32m-> 8740\u001b[1;33m         \u001b[1;32mreturn\u001b[0m \u001b[0mop\u001b[0m\u001b[1;33m.\u001b[0m\u001b[0mapply\u001b[0m\u001b[1;33m(\u001b[0m\u001b[1;33m)\u001b[0m\u001b[1;33m\u001b[0m\u001b[1;33m\u001b[0m\u001b[0m\n\u001b[0m\u001b[0;32m   8741\u001b[0m \u001b[1;33m\u001b[0m\u001b[0m\n\u001b[0;32m   8742\u001b[0m     def applymap(\n",
      "\u001b[1;32m~\\anaconda3\\lib\\site-packages\\pandas\\core\\apply.py\u001b[0m in \u001b[0;36mapply\u001b[1;34m(self)\u001b[0m\n\u001b[0;32m    686\u001b[0m             \u001b[1;32mreturn\u001b[0m \u001b[0mself\u001b[0m\u001b[1;33m.\u001b[0m\u001b[0mapply_raw\u001b[0m\u001b[1;33m(\u001b[0m\u001b[1;33m)\u001b[0m\u001b[1;33m\u001b[0m\u001b[1;33m\u001b[0m\u001b[0m\n\u001b[0;32m    687\u001b[0m \u001b[1;33m\u001b[0m\u001b[0m\n\u001b[1;32m--> 688\u001b[1;33m         \u001b[1;32mreturn\u001b[0m \u001b[0mself\u001b[0m\u001b[1;33m.\u001b[0m\u001b[0mapply_standard\u001b[0m\u001b[1;33m(\u001b[0m\u001b[1;33m)\u001b[0m\u001b[1;33m\u001b[0m\u001b[1;33m\u001b[0m\u001b[0m\n\u001b[0m\u001b[0;32m    689\u001b[0m \u001b[1;33m\u001b[0m\u001b[0m\n\u001b[0;32m    690\u001b[0m     \u001b[1;32mdef\u001b[0m \u001b[0magg\u001b[0m\u001b[1;33m(\u001b[0m\u001b[0mself\u001b[0m\u001b[1;33m)\u001b[0m\u001b[1;33m:\u001b[0m\u001b[1;33m\u001b[0m\u001b[1;33m\u001b[0m\u001b[0m\n",
      "\u001b[1;32m~\\anaconda3\\lib\\site-packages\\pandas\\core\\apply.py\u001b[0m in \u001b[0;36mapply_standard\u001b[1;34m(self)\u001b[0m\n\u001b[0;32m    810\u001b[0m \u001b[1;33m\u001b[0m\u001b[0m\n\u001b[0;32m    811\u001b[0m     \u001b[1;32mdef\u001b[0m \u001b[0mapply_standard\u001b[0m\u001b[1;33m(\u001b[0m\u001b[0mself\u001b[0m\u001b[1;33m)\u001b[0m\u001b[1;33m:\u001b[0m\u001b[1;33m\u001b[0m\u001b[1;33m\u001b[0m\u001b[0m\n\u001b[1;32m--> 812\u001b[1;33m         \u001b[0mresults\u001b[0m\u001b[1;33m,\u001b[0m \u001b[0mres_index\u001b[0m \u001b[1;33m=\u001b[0m \u001b[0mself\u001b[0m\u001b[1;33m.\u001b[0m\u001b[0mapply_series_generator\u001b[0m\u001b[1;33m(\u001b[0m\u001b[1;33m)\u001b[0m\u001b[1;33m\u001b[0m\u001b[1;33m\u001b[0m\u001b[0m\n\u001b[0m\u001b[0;32m    813\u001b[0m \u001b[1;33m\u001b[0m\u001b[0m\n\u001b[0;32m    814\u001b[0m         \u001b[1;31m# wrap results\u001b[0m\u001b[1;33m\u001b[0m\u001b[1;33m\u001b[0m\u001b[0m\n",
      "\u001b[1;32m~\\anaconda3\\lib\\site-packages\\pandas\\core\\apply.py\u001b[0m in \u001b[0;36mapply_series_generator\u001b[1;34m(self)\u001b[0m\n\u001b[0;32m    826\u001b[0m             \u001b[1;32mfor\u001b[0m \u001b[0mi\u001b[0m\u001b[1;33m,\u001b[0m \u001b[0mv\u001b[0m \u001b[1;32min\u001b[0m \u001b[0menumerate\u001b[0m\u001b[1;33m(\u001b[0m\u001b[0mseries_gen\u001b[0m\u001b[1;33m)\u001b[0m\u001b[1;33m:\u001b[0m\u001b[1;33m\u001b[0m\u001b[1;33m\u001b[0m\u001b[0m\n\u001b[0;32m    827\u001b[0m                 \u001b[1;31m# ignore SettingWithCopy here in case the user mutates\u001b[0m\u001b[1;33m\u001b[0m\u001b[1;33m\u001b[0m\u001b[0m\n\u001b[1;32m--> 828\u001b[1;33m                 \u001b[0mresults\u001b[0m\u001b[1;33m[\u001b[0m\u001b[0mi\u001b[0m\u001b[1;33m]\u001b[0m \u001b[1;33m=\u001b[0m \u001b[0mself\u001b[0m\u001b[1;33m.\u001b[0m\u001b[0mf\u001b[0m\u001b[1;33m(\u001b[0m\u001b[0mv\u001b[0m\u001b[1;33m)\u001b[0m\u001b[1;33m\u001b[0m\u001b[1;33m\u001b[0m\u001b[0m\n\u001b[0m\u001b[0;32m    829\u001b[0m                 \u001b[1;32mif\u001b[0m \u001b[0misinstance\u001b[0m\u001b[1;33m(\u001b[0m\u001b[0mresults\u001b[0m\u001b[1;33m[\u001b[0m\u001b[0mi\u001b[0m\u001b[1;33m]\u001b[0m\u001b[1;33m,\u001b[0m \u001b[0mABCSeries\u001b[0m\u001b[1;33m)\u001b[0m\u001b[1;33m:\u001b[0m\u001b[1;33m\u001b[0m\u001b[1;33m\u001b[0m\u001b[0m\n\u001b[0;32m    830\u001b[0m                     \u001b[1;31m# If we have a view on v, we need to make a copy because\u001b[0m\u001b[1;33m\u001b[0m\u001b[1;33m\u001b[0m\u001b[0m\n",
      "\u001b[1;31mTypeError\u001b[0m: integrate() missing 1 required positional argument: 'df_ang_dir'"
     ]
    }
   ],
   "source": [
    "# CONVERT RAW IMU TO PITCH, ROLL, YAW\n",
    "\n",
    "def integrate(i, df_ang_dir):\n",
    "    integral = df_ang_dir[i] * (df.Time[i+1] - df.Time[i])\n",
    "    return integral\n",
    "    \n",
    "\n",
    "# Integrate angular velocity to get angular displacement\n",
    "heading_df = df.apply(integrate())\n",
    "#lambda functions\n",
    "\n"
   ]
  },
  {
   "cell_type": "code",
   "execution_count": null,
   "id": "a2d40d03",
   "metadata": {},
   "outputs": [],
   "source": [
    "# PLOT UNFILTERED DATA\n",
    "\n",
    "\n",
    "\n"
   ]
  },
  {
   "cell_type": "code",
   "execution_count": null,
   "id": "77491f71",
   "metadata": {},
   "outputs": [],
   "source": [
    "# RUN DATA THROUGH THE KALMAN FILTER\n",
    "\n",
    "\n",
    "\n"
   ]
  },
  {
   "cell_type": "code",
   "execution_count": null,
   "id": "e74a0d43",
   "metadata": {},
   "outputs": [],
   "source": [
    "# PLOT FILTERED DATA\n",
    "\n",
    "\n",
    "\n"
   ]
  }
 ],
 "metadata": {
  "kernelspec": {
   "display_name": "Python 3 (ipykernel)",
   "language": "python",
   "name": "python3"
  },
  "language_info": {
   "codemirror_mode": {
    "name": "ipython",
    "version": 3
   },
   "file_extension": ".py",
   "mimetype": "text/x-python",
   "name": "python",
   "nbconvert_exporter": "python",
   "pygments_lexer": "ipython3",
   "version": "3.9.7"
  }
 },
 "nbformat": 4,
 "nbformat_minor": 5
}
